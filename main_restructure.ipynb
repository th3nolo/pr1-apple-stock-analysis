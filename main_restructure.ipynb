{
 "cells": [
  {
   "cell_type": "code",
   "execution_count": 1,
   "metadata": {
    "collapsed": true
   },
   "outputs": [],
   "source": [
    "#Imports\n",
    "import pandas as pd\n",
    "import matplotlib.pyplot as plt\n",
    "import seaborn\n",
    "import numpy as np\n",
    "import matplotlib.dates as mdate\n",
    "import datetime as dt"
   ]
  },
  {
   "cell_type": "code",
   "execution_count": 2,
   "metadata": {
    "collapsed": true
   },
   "outputs": [],
   "source": [
    "#Parse data for closing price + volume, rsi\n",
    "stock_pd = pd.read_csv(\"apple_raw.csv\")\n",
    "rsi_pd = pd.read_csv(\"apple_raw_rsi.csv\")"
   ]
  },
  {
   "cell_type": "code",
   "execution_count": 3,
   "metadata": {},
   "outputs": [
    {
     "data": {
      "text/html": [
       "<div>\n",
       "<style>\n",
       "    .dataframe thead tr:only-child th {\n",
       "        text-align: right;\n",
       "    }\n",
       "\n",
       "    .dataframe thead th {\n",
       "        text-align: left;\n",
       "    }\n",
       "\n",
       "    .dataframe tbody tr th {\n",
       "        vertical-align: top;\n",
       "    }\n",
       "</style>\n",
       "<table border=\"1\" class=\"dataframe\">\n",
       "  <thead>\n",
       "    <tr style=\"text-align: right;\">\n",
       "      <th></th>\n",
       "      <th>timestamp</th>\n",
       "      <th>open</th>\n",
       "      <th>high</th>\n",
       "      <th>low</th>\n",
       "      <th>close</th>\n",
       "      <th>volume</th>\n",
       "    </tr>\n",
       "  </thead>\n",
       "  <tbody>\n",
       "    <tr>\n",
       "      <th>0</th>\n",
       "      <td>2000-01-03</td>\n",
       "      <td>104.87</td>\n",
       "      <td>112.50</td>\n",
       "      <td>101.69</td>\n",
       "      <td>111.94</td>\n",
       "      <td>4783900</td>\n",
       "    </tr>\n",
       "    <tr>\n",
       "      <th>1</th>\n",
       "      <td>2000-01-04</td>\n",
       "      <td>108.25</td>\n",
       "      <td>110.62</td>\n",
       "      <td>101.19</td>\n",
       "      <td>102.50</td>\n",
       "      <td>4574800</td>\n",
       "    </tr>\n",
       "  </tbody>\n",
       "</table>\n",
       "</div>"
      ],
      "text/plain": [
       "    timestamp    open    high     low   close   volume\n",
       "0  2000-01-03  104.87  112.50  101.69  111.94  4783900\n",
       "1  2000-01-04  108.25  110.62  101.19  102.50  4574800"
      ]
     },
     "execution_count": 3,
     "metadata": {},
     "output_type": "execute_result"
    }
   ],
   "source": [
    "stock_pd.head(2)"
   ]
  },
  {
   "cell_type": "code",
   "execution_count": 4,
   "metadata": {},
   "outputs": [
    {
     "data": {
      "text/html": [
       "<div>\n",
       "<style>\n",
       "    .dataframe thead tr:only-child th {\n",
       "        text-align: right;\n",
       "    }\n",
       "\n",
       "    .dataframe thead th {\n",
       "        text-align: left;\n",
       "    }\n",
       "\n",
       "    .dataframe tbody tr th {\n",
       "        vertical-align: top;\n",
       "    }\n",
       "</style>\n",
       "<table border=\"1\" class=\"dataframe\">\n",
       "  <thead>\n",
       "    <tr style=\"text-align: right;\">\n",
       "      <th></th>\n",
       "      <th>timestamp</th>\n",
       "      <th>RSI</th>\n",
       "    </tr>\n",
       "  </thead>\n",
       "  <tbody>\n",
       "    <tr>\n",
       "      <th>0</th>\n",
       "      <td>2000-03-29</td>\n",
       "      <td>54.8434</td>\n",
       "    </tr>\n",
       "    <tr>\n",
       "      <th>1</th>\n",
       "      <td>2000-03-30</td>\n",
       "      <td>52.6416</td>\n",
       "    </tr>\n",
       "  </tbody>\n",
       "</table>\n",
       "</div>"
      ],
      "text/plain": [
       "    timestamp      RSI\n",
       "0  2000-03-29  54.8434\n",
       "1  2000-03-30  52.6416"
      ]
     },
     "execution_count": 4,
     "metadata": {},
     "output_type": "execute_result"
    }
   ],
   "source": [
    "rsi_pd.head(2)"
   ]
  },
  {
   "cell_type": "code",
   "execution_count": 5,
   "metadata": {},
   "outputs": [
    {
     "name": "stdout",
     "output_type": "stream",
     "text": [
      "timestamp     object\n",
      "open         float64\n",
      "high         float64\n",
      "low          float64\n",
      "close        float64\n",
      "volume         int64\n",
      "dtype: object\n"
     ]
    }
   ],
   "source": [
    "#Verify column datatypes\n",
    "print(stock_pd.dtypes)"
   ]
  },
  {
   "cell_type": "code",
   "execution_count": 6,
   "metadata": {
    "collapsed": true
   },
   "outputs": [],
   "source": [
    "# Drop open, high, low from dataset, parse timestamps and reset index\n",
    "   # Keep volume - do not drop\n",
    "stock_pd = pd.read_csv('apple_raw.csv',parse_dates=['timestamp'])\n",
    "stock_pd = stock_pd.sort_values(by='timestamp')\n",
    "stock_pd.drop(['open','high','low'],axis = 1, inplace = True)\n",
    "    \n",
    "stock_pd.set_index('timestamp',inplace=True)"
   ]
  },
  {
   "cell_type": "code",
   "execution_count": 7,
   "metadata": {},
   "outputs": [
    {
     "data": {
      "image/png": "[encoded data removed]",
      "text/plain": [
       "<matplotlib.figure.Figure at 0x17829760668>"
      ]
     },
     "metadata": {},
     "output_type": "display_data"
    }
   ],
   "source": [
    "# Create Multi-year color chart closing price for three year range:\n",
    "\n",
    "stock_2017 = stock_pd.truncate(before=str('2017-01-01'), after=str('2017-12-31'))\n",
    "stock_2016 = stock_pd.truncate(before=str('2016-01-01'), after=str('2016-12-31'))\n",
    "stock_2015 = stock_pd.truncate(before=str('2015-01-01'), after=str('2015-12-31'))\n",
    "\n",
    "stock_2017['close'].plot(figsize=(16, 12), color=\"red\")\n",
    "stock_2016['close'].plot(figsize=(16, 12), color=\"purple\")\n",
    "stock_2015['close'].plot(figsize=(16, 12), color=\"orange\")\n",
    "\n",
    "plt.title(\"Apple Stock Closing Price between Year 2015 - 2017\")\n",
    "plt.xlabel(\"Year 2015 - 2017\")\n",
    "plt.ylabel(\"Stock Closing Price ($)\")\n",
    "plt.show()"
   ]
  },
  {
   "cell_type": "code",
   "execution_count": 8,
   "metadata": {
    "collapsed": true
   },
   "outputs": [],
   "source": [
    "# Parse timestamps, reset index to three year range for RSI values:\n",
    "\n",
    "rsi_pd1 = rsi_pd.sort_values(by='timestamp')\n",
    "rsi_pd2 = rsi_pd.sort_values(by='timestamp')\n",
    "rsi_pd3 = rsi_pd.sort_values(by='timestamp')\n",
    "\n",
    "rsi_pd1.set_index('timestamp', inplace=True)\n",
    "rsi_pd2.set_index('timestamp', inplace=True)\n",
    "rsi_pd3.set_index('timestamp', inplace=True)\n",
    "\n",
    "rsi_2017=rsi_pd1.truncate(before=str('2017-01-01'), after=str('2017-12-31'))\n",
    "rsi_2016=rsi_pd2.truncate(before=str('2016-01-01'), after=str('2016-12-31'))\n",
    "rsi_2015=rsi_pd3.truncate(before=str('2015-01-01'), after=str('2015-12-31'))"
   ]
  },
  {
   "cell_type": "code",
   "execution_count": null,
   "metadata": {
    "collapsed": true
   },
   "outputs": [],
   "source": []
  },
  {
   "cell_type": "code",
   "execution_count": 9,
   "metadata": {},
   "outputs": [
    {
     "data": {
      "text/html": [
       "<div>\n",
       "<style>\n",
       "    .dataframe thead tr:only-child th {\n",
       "        text-align: right;\n",
       "    }\n",
       "\n",
       "    .dataframe thead th {\n",
       "        text-align: left;\n",
       "    }\n",
       "\n",
       "    .dataframe tbody tr th {\n",
       "        vertical-align: top;\n",
       "    }\n",
       "</style>\n",
       "<table border=\"1\" class=\"dataframe\">\n",
       "  <thead>\n",
       "    <tr style=\"text-align: right;\">\n",
       "      <th></th>\n",
       "      <th>RSI</th>\n",
       "    </tr>\n",
       "    <tr>\n",
       "      <th>timestamp</th>\n",
       "      <th></th>\n",
       "    </tr>\n",
       "  </thead>\n",
       "  <tbody>\n",
       "    <tr>\n",
       "      <th>2017-01-03</th>\n",
       "      <td>55.3174</td>\n",
       "    </tr>\n",
       "    <tr>\n",
       "      <th>2017-01-04</th>\n",
       "      <td>55.1781</td>\n",
       "    </tr>\n",
       "    <tr>\n",
       "      <th>2017-01-05</th>\n",
       "      <td>55.6929</td>\n",
       "    </tr>\n",
       "    <tr>\n",
       "      <th>2017-01-06</th>\n",
       "      <td>56.8044</td>\n",
       "    </tr>\n",
       "    <tr>\n",
       "      <th>2017-01-09</th>\n",
       "      <td>57.7009</td>\n",
       "    </tr>\n",
       "  </tbody>\n",
       "</table>\n",
       "</div>"
      ],
      "text/plain": [
       "                RSI\n",
       "timestamp          \n",
       "2017-01-03  55.3174\n",
       "2017-01-04  55.1781\n",
       "2017-01-05  55.6929\n",
       "2017-01-06  56.8044\n",
       "2017-01-09  57.7009"
      ]
     },
     "execution_count": 9,
     "metadata": {},
     "output_type": "execute_result"
    }
   ],
   "source": [
    "rsi_2017.head()"
   ]
  },
  {
   "cell_type": "code",
   "execution_count": 10,
   "metadata": {
    "scrolled": true
   },
   "outputs": [
    {
     "data": {
      "text/html": [
       "<div>\n",
       "<style>\n",
       "    .dataframe thead tr:only-child th {\n",
       "        text-align: right;\n",
       "    }\n",
       "\n",
       "    .dataframe thead th {\n",
       "        text-align: left;\n",
       "    }\n",
       "\n",
       "    .dataframe tbody tr th {\n",
       "        vertical-align: top;\n",
       "    }\n",
       "</style>\n",
       "<table border=\"1\" class=\"dataframe\">\n",
       "  <thead>\n",
       "    <tr style=\"text-align: right;\">\n",
       "      <th></th>\n",
       "      <th>close</th>\n",
       "      <th>volume</th>\n",
       "    </tr>\n",
       "    <tr>\n",
       "      <th>timestamp</th>\n",
       "      <th></th>\n",
       "      <th></th>\n",
       "    </tr>\n",
       "  </thead>\n",
       "  <tbody>\n",
       "    <tr>\n",
       "      <th>2017-01-03</th>\n",
       "      <td>116.15</td>\n",
       "      <td>28781865</td>\n",
       "    </tr>\n",
       "    <tr>\n",
       "      <th>2017-01-04</th>\n",
       "      <td>116.02</td>\n",
       "      <td>21118116</td>\n",
       "    </tr>\n",
       "    <tr>\n",
       "      <th>2017-01-05</th>\n",
       "      <td>116.61</td>\n",
       "      <td>22193587</td>\n",
       "    </tr>\n",
       "    <tr>\n",
       "      <th>2017-01-06</th>\n",
       "      <td>117.91</td>\n",
       "      <td>31751900</td>\n",
       "    </tr>\n",
       "    <tr>\n",
       "      <th>2017-01-09</th>\n",
       "      <td>118.99</td>\n",
       "      <td>33561948</td>\n",
       "    </tr>\n",
       "  </tbody>\n",
       "</table>\n",
       "</div>"
      ],
      "text/plain": [
       "             close    volume\n",
       "timestamp                   \n",
       "2017-01-03  116.15  28781865\n",
       "2017-01-04  116.02  21118116\n",
       "2017-01-05  116.61  22193587\n",
       "2017-01-06  117.91  31751900\n",
       "2017-01-09  118.99  33561948"
      ]
     },
     "execution_count": 10,
     "metadata": {},
     "output_type": "execute_result"
    }
   ],
   "source": [
    "stock_2017.head()"
   ]
  },
  {
   "cell_type": "code",
   "execution_count": 11,
   "metadata": {
    "collapsed": true,
    "scrolled": false
   },
   "outputs": [],
   "source": [
    "# Merge RSI values into close + volume price into dataframe\n",
    "stock_2017=stock_2017.join(rsi_2017, how= 'inner')\n",
    "stock_2016=stock_2016.join(rsi_2016, how= 'inner')\n",
    "stock_2015=stock_2015.join(rsi_2015, how= 'inner')"
   ]
  },
  {
   "cell_type": "code",
   "execution_count": 12,
   "metadata": {},
   "outputs": [
    {
     "data": {
      "text/html": [
       "<div>\n",
       "<style>\n",
       "    .dataframe thead tr:only-child th {\n",
       "        text-align: right;\n",
       "    }\n",
       "\n",
       "    .dataframe thead th {\n",
       "        text-align: left;\n",
       "    }\n",
       "\n",
       "    .dataframe tbody tr th {\n",
       "        vertical-align: top;\n",
       "    }\n",
       "</style>\n",
       "<table border=\"1\" class=\"dataframe\">\n",
       "  <thead>\n",
       "    <tr style=\"text-align: right;\">\n",
       "      <th></th>\n",
       "      <th>close</th>\n",
       "      <th>volume</th>\n",
       "      <th>RSI</th>\n",
       "    </tr>\n",
       "    <tr>\n",
       "      <th>timestamp</th>\n",
       "      <th></th>\n",
       "      <th></th>\n",
       "      <th></th>\n",
       "    </tr>\n",
       "  </thead>\n",
       "  <tbody>\n",
       "    <tr>\n",
       "      <th>2015-01-02</th>\n",
       "      <td>109.33</td>\n",
       "      <td>53204626</td>\n",
       "      <td>36.2704</td>\n",
       "    </tr>\n",
       "    <tr>\n",
       "      <th>2015-01-05</th>\n",
       "      <td>106.25</td>\n",
       "      <td>64285491</td>\n",
       "      <td>35.4623</td>\n",
       "    </tr>\n",
       "    <tr>\n",
       "      <th>2015-01-06</th>\n",
       "      <td>106.26</td>\n",
       "      <td>65797116</td>\n",
       "      <td>35.4671</td>\n",
       "    </tr>\n",
       "    <tr>\n",
       "      <th>2015-01-07</th>\n",
       "      <td>107.75</td>\n",
       "      <td>40105934</td>\n",
       "      <td>36.1784</td>\n",
       "    </tr>\n",
       "    <tr>\n",
       "      <th>2015-01-08</th>\n",
       "      <td>111.89</td>\n",
       "      <td>59364547</td>\n",
       "      <td>38.1060</td>\n",
       "    </tr>\n",
       "  </tbody>\n",
       "</table>\n",
       "</div>"
      ],
      "text/plain": [
       "             close    volume      RSI\n",
       "timestamp                            \n",
       "2015-01-02  109.33  53204626  36.2704\n",
       "2015-01-05  106.25  64285491  35.4623\n",
       "2015-01-06  106.26  65797116  35.4671\n",
       "2015-01-07  107.75  40105934  36.1784\n",
       "2015-01-08  111.89  59364547  38.1060"
      ]
     },
     "execution_count": 12,
     "metadata": {},
     "output_type": "execute_result"
    }
   ],
   "source": [
    "stock_2015.head()"
   ]
  },
  {
   "cell_type": "code",
   "execution_count": 13,
   "metadata": {
    "scrolled": true
   },
   "outputs": [],
   "source": [
    "# Flat multi-variate linear regression test for price prediction\n",
    "# Reference/source: \n",
    "    # https://enlight.nyc/stock-market-prediction"
   ]
  },
  {
   "cell_type": "code",
   "execution_count": 14,
   "metadata": {},
   "outputs": [
    {
     "data": {
      "text/html": [
       "<div>\n",
       "<style>\n",
       "    .dataframe thead tr:only-child th {\n",
       "        text-align: right;\n",
       "    }\n",
       "\n",
       "    .dataframe thead th {\n",
       "        text-align: left;\n",
       "    }\n",
       "\n",
       "    .dataframe tbody tr th {\n",
       "        vertical-align: top;\n",
       "    }\n",
       "</style>\n",
       "<table border=\"1\" class=\"dataframe\">\n",
       "  <thead>\n",
       "    <tr style=\"text-align: right;\">\n",
       "      <th></th>\n",
       "      <th>close</th>\n",
       "      <th>volume</th>\n",
       "      <th>RSI</th>\n",
       "      <th>prediction</th>\n",
       "    </tr>\n",
       "    <tr>\n",
       "      <th>timestamp</th>\n",
       "      <th></th>\n",
       "      <th></th>\n",
       "      <th></th>\n",
       "      <th></th>\n",
       "    </tr>\n",
       "  </thead>\n",
       "  <tbody>\n",
       "    <tr>\n",
       "      <th>2015-01-02</th>\n",
       "      <td>109.33</td>\n",
       "      <td>53204626</td>\n",
       "      <td>36.2704</td>\n",
       "      <td>127.830</td>\n",
       "    </tr>\n",
       "    <tr>\n",
       "      <th>2015-01-05</th>\n",
       "      <td>106.25</td>\n",
       "      <td>64285491</td>\n",
       "      <td>35.4623</td>\n",
       "      <td>128.715</td>\n",
       "    </tr>\n",
       "    <tr>\n",
       "      <th>2015-01-06</th>\n",
       "      <td>106.26</td>\n",
       "      <td>65797116</td>\n",
       "      <td>35.4671</td>\n",
       "      <td>128.450</td>\n",
       "    </tr>\n",
       "    <tr>\n",
       "      <th>2015-01-07</th>\n",
       "      <td>107.75</td>\n",
       "      <td>40105934</td>\n",
       "      <td>36.1784</td>\n",
       "      <td>129.495</td>\n",
       "    </tr>\n",
       "    <tr>\n",
       "      <th>2015-01-08</th>\n",
       "      <td>111.89</td>\n",
       "      <td>59364547</td>\n",
       "      <td>38.1060</td>\n",
       "      <td>133.000</td>\n",
       "    </tr>\n",
       "  </tbody>\n",
       "</table>\n",
       "</div>"
      ],
      "text/plain": [
       "             close    volume      RSI  prediction\n",
       "timestamp                                        \n",
       "2015-01-02  109.33  53204626  36.2704     127.830\n",
       "2015-01-05  106.25  64285491  35.4623     128.715\n",
       "2015-01-06  106.26  65797116  35.4671     128.450\n",
       "2015-01-07  107.75  40105934  36.1784     129.495\n",
       "2015-01-08  111.89  59364547  38.1060     133.000"
      ]
     },
     "execution_count": 14,
     "metadata": {},
     "output_type": "execute_result"
    }
   ],
   "source": [
    "forecast_out = int(30)\n",
    "\n",
    "# predictions shifted 30 days/units up/backwards:\n",
    "    # pandas shift() function, negative value used\n",
    "stock_2015['prediction'] = stock_2015[['close']].shift(-forecast_out)\n",
    "\n",
    "stock_2015.head()"
   ]
  },
  {
   "cell_type": "code",
   "execution_count": 15,
   "metadata": {
    "scrolled": true
   },
   "outputs": [
    {
     "data": {
      "text/html": [
       "<div>\n",
       "<style>\n",
       "    .dataframe thead tr:only-child th {\n",
       "        text-align: right;\n",
       "    }\n",
       "\n",
       "    .dataframe thead th {\n",
       "        text-align: left;\n",
       "    }\n",
       "\n",
       "    .dataframe tbody tr th {\n",
       "        vertical-align: top;\n",
       "    }\n",
       "</style>\n",
       "<table border=\"1\" class=\"dataframe\">\n",
       "  <thead>\n",
       "    <tr style=\"text-align: right;\">\n",
       "      <th></th>\n",
       "      <th>close</th>\n",
       "      <th>volume</th>\n",
       "      <th>RSI</th>\n",
       "      <th>prediction</th>\n",
       "    </tr>\n",
       "    <tr>\n",
       "      <th>timestamp</th>\n",
       "      <th></th>\n",
       "      <th></th>\n",
       "      <th></th>\n",
       "      <th></th>\n",
       "    </tr>\n",
       "  </thead>\n",
       "  <tbody>\n",
       "    <tr>\n",
       "      <th>2015-12-24</th>\n",
       "      <td>108.03</td>\n",
       "      <td>13596680</td>\n",
       "      <td>45.1011</td>\n",
       "      <td>NaN</td>\n",
       "    </tr>\n",
       "    <tr>\n",
       "      <th>2015-12-28</th>\n",
       "      <td>106.82</td>\n",
       "      <td>26704210</td>\n",
       "      <td>44.4940</td>\n",
       "      <td>NaN</td>\n",
       "    </tr>\n",
       "    <tr>\n",
       "      <th>2015-12-29</th>\n",
       "      <td>108.74</td>\n",
       "      <td>30931243</td>\n",
       "      <td>45.6741</td>\n",
       "      <td>NaN</td>\n",
       "    </tr>\n",
       "    <tr>\n",
       "      <th>2015-12-30</th>\n",
       "      <td>107.32</td>\n",
       "      <td>25213777</td>\n",
       "      <td>44.9553</td>\n",
       "      <td>NaN</td>\n",
       "    </tr>\n",
       "    <tr>\n",
       "      <th>2015-12-31</th>\n",
       "      <td>105.26</td>\n",
       "      <td>40912316</td>\n",
       "      <td>43.9351</td>\n",
       "      <td>NaN</td>\n",
       "    </tr>\n",
       "  </tbody>\n",
       "</table>\n",
       "</div>"
      ],
      "text/plain": [
       "             close    volume      RSI  prediction\n",
       "timestamp                                        \n",
       "2015-12-24  108.03  13596680  45.1011         NaN\n",
       "2015-12-28  106.82  26704210  44.4940         NaN\n",
       "2015-12-29  108.74  30931243  45.6741         NaN\n",
       "2015-12-30  107.32  25213777  44.9553         NaN\n",
       "2015-12-31  105.26  40912316  43.9351         NaN"
      ]
     },
     "execution_count": 15,
     "metadata": {},
     "output_type": "execute_result"
    }
   ],
   "source": [
    "# Verifying shift on tail end of dataset (NaN values should be present)\n",
    "stock_2015.tail()"
   ]
  },
  {
   "cell_type": "code",
   "execution_count": 16,
   "metadata": {
    "scrolled": false
   },
   "outputs": [
    {
     "data": {
      "text/html": [
       "<div>\n",
       "<style>\n",
       "    .dataframe thead tr:only-child th {\n",
       "        text-align: right;\n",
       "    }\n",
       "\n",
       "    .dataframe thead th {\n",
       "        text-align: left;\n",
       "    }\n",
       "\n",
       "    .dataframe tbody tr th {\n",
       "        vertical-align: top;\n",
       "    }\n",
       "</style>\n",
       "<table border=\"1\" class=\"dataframe\">\n",
       "  <thead>\n",
       "    <tr style=\"text-align: right;\">\n",
       "      <th></th>\n",
       "      <th>close</th>\n",
       "      <th>volume</th>\n",
       "      <th>RSI</th>\n",
       "      <th>prediction</th>\n",
       "    </tr>\n",
       "    <tr>\n",
       "      <th>timestamp</th>\n",
       "      <th></th>\n",
       "      <th></th>\n",
       "      <th></th>\n",
       "      <th></th>\n",
       "    </tr>\n",
       "  </thead>\n",
       "  <tbody>\n",
       "    <tr>\n",
       "      <th>2015-11-11</th>\n",
       "      <td>116.110</td>\n",
       "      <td>45217971</td>\n",
       "      <td>48.7008</td>\n",
       "      <td>108.03</td>\n",
       "    </tr>\n",
       "    <tr>\n",
       "      <th>2015-11-12</th>\n",
       "      <td>115.720</td>\n",
       "      <td>32525579</td>\n",
       "      <td>48.4972</td>\n",
       "      <td>106.82</td>\n",
       "    </tr>\n",
       "    <tr>\n",
       "      <th>2015-11-13</th>\n",
       "      <td>112.340</td>\n",
       "      <td>45812403</td>\n",
       "      <td>46.7735</td>\n",
       "      <td>108.74</td>\n",
       "    </tr>\n",
       "    <tr>\n",
       "      <th>2015-11-16</th>\n",
       "      <td>114.175</td>\n",
       "      <td>38106701</td>\n",
       "      <td>47.7978</td>\n",
       "      <td>107.32</td>\n",
       "    </tr>\n",
       "    <tr>\n",
       "      <th>2015-11-17</th>\n",
       "      <td>113.690</td>\n",
       "      <td>27583101</td>\n",
       "      <td>47.5519</td>\n",
       "      <td>105.26</td>\n",
       "    </tr>\n",
       "  </tbody>\n",
       "</table>\n",
       "</div>"
      ],
      "text/plain": [
       "              close    volume      RSI  prediction\n",
       "timestamp                                         \n",
       "2015-11-11  116.110  45217971  48.7008      108.03\n",
       "2015-11-12  115.720  32525579  48.4972      106.82\n",
       "2015-11-13  112.340  45812403  46.7735      108.74\n",
       "2015-11-16  114.175  38106701  47.7978      107.32\n",
       "2015-11-17  113.690  27583101  47.5519      105.26"
      ]
     },
     "execution_count": 16,
     "metadata": {},
     "output_type": "execute_result"
    }
   ],
   "source": [
    "# Drop rows/last 30 day shift with NaN values\n",
    "stock_2015.dropna(inplace=True)\n",
    "# Verify NaN drop of rows\n",
    "stock_2015.tail()"
   ]
  },
  {
   "cell_type": "code",
   "execution_count": 17,
   "metadata": {},
   "outputs": [
    {
     "name": "stderr",
     "output_type": "stream",
     "text": [
      "C:\\Users\\tyu-dev\\Anaconda3\\envs\\pythondata\\lib\\site-packages\\sklearn\\cross_validation.py:44: DeprecationWarning: This module was deprecated in version 0.18 in favor of the model_selection module into which all the refactored classes and functions are moved. Also note that the interface of the new CV iterators are different from that of this module. This module will be removed in 0.20.\n",
      "  \"This module will be removed in 0.20.\", DeprecationWarning)\n"
     ]
    }
   ],
   "source": [
    "from sklearn.linear_model import LinearRegression\n",
    "from sklearn.model_selection import train_test_split\n",
    "from sklearn.preprocessing import StandardScaler\n",
    "from sklearn import preprocessing, cross_validation, svm"
   ]
  },
  {
   "cell_type": "code",
   "execution_count": 18,
   "metadata": {},
   "outputs": [],
   "source": [
    "# Set input features (X) and predictor value (y)\n",
    "    # close, volume, RSI = X (predictor values)\n",
    "    # prediction = y (predicted value)\n",
    "X = np.array(stock_2015.drop(['prediction'], 1))\n",
    "y = np.array(stock_2015['prediction'])"
   ]
  },
  {
   "cell_type": "code",
   "execution_count": 19,
   "metadata": {
    "collapsed": true
   },
   "outputs": [],
   "source": [
    "# Scale input features/X \n",
    "    # test_size to 20% of data\n",
    "\n",
    "X_train, X_test, y_train, y_test = cross_validation.train_test_split(X, y, random_state=1, test_size = 0.25)"
   ]
  },
  {
   "cell_type": "code",
   "execution_count": 20,
   "metadata": {},
   "outputs": [],
   "source": [
    "X_scaler = StandardScaler().fit(X_train)"
   ]
  },
  {
   "cell_type": "code",
   "execution_count": 21,
   "metadata": {
    "collapsed": true
   },
   "outputs": [],
   "source": [
    "X_train_scaled = X_scaler.transform(X_train)\n",
    "X_test_scaled = X_scaler.transform(X_test)"
   ]
  },
  {
   "cell_type": "code",
   "execution_count": 22,
   "metadata": {},
   "outputs": [
    {
     "data": {
      "text/plain": [
       "LinearRegression(copy_X=True, fit_intercept=True, n_jobs=1, normalize=False)"
      ]
     },
     "execution_count": 22,
     "metadata": {},
     "output_type": "execute_result"
    }
   ],
   "source": [
    "clf = LinearRegression()\n",
    "clf.fit(X_train_scaled,y_train)"
   ]
  },
  {
   "cell_type": "code",
   "execution_count": 23,
   "metadata": {},
   "outputs": [
    {
     "name": "stdout",
     "output_type": "stream",
     "text": [
      "confidence:  0.49203865306004047\n"
     ]
    }
   ],
   "source": [
    "confidence = clf.score(X_test_scaled, y_test)\n",
    "print(\"confidence: \", confidence)"
   ]
  },
  {
   "cell_type": "code",
   "execution_count": 24,
   "metadata": {
    "scrolled": true
   },
   "outputs": [
    {
     "name": "stdout",
     "output_type": "stream",
     "text": [
      "[114.91070339 123.08633492 112.59800333 123.04495839 113.51909425\n",
      " 120.81432919 112.18404489 122.39689981 122.37923883 124.07545643\n",
      " 123.52524523 112.6256775  123.46822957 122.16795893 125.51269486\n",
      " 113.73849871 124.72645743 123.88498652 114.01437081 124.9388922\n",
      " 121.13845289 123.91453183 117.22620307 113.17512977 113.01999494\n",
      " 112.9899834  125.11797117 121.92342861 127.57547073 116.51982907\n",
      " 122.86587181 124.37433199 114.46014845 124.14263693 124.19476957\n",
      " 114.01956751 122.98972305 124.87913934 115.88013806 123.41238129\n",
      " 111.5462356  123.62455071 123.11473108 113.61786571 123.04083843\n",
      " 120.46535082 125.15821331 120.60748307 123.35104198 114.69275844\n",
      " 113.04316807 115.0586651  122.73314616 122.28857764 122.73568834\n",
      " 112.78110115 125.25436329 113.62326931 123.05070659 123.38925319\n",
      " 122.66105965 113.63118416 124.36116438 112.82394355 123.50554542\n",
      " 125.19046807 115.10362573 112.07339996 114.47894499 122.59251316\n",
      " 123.75107454 112.96056587 121.11599385 113.51131208 115.66192206\n",
      " 126.73651813 116.00042041 126.53722427 113.77849513 115.42805611\n",
      " 123.57678896 123.62992183 123.96858746 123.90130115 123.89568089\n",
      " 123.21121591 117.36836969 122.85296039 122.75385311 120.39836712\n",
      " 124.0782842  126.3551901  121.07383584 123.24573722 115.29903351\n",
      " 123.51586629 123.5791514  125.17883128 123.63266059 124.94018324\n",
      " 113.96777126 123.57241977 119.34362765 115.90876237 121.76394548\n",
      " 123.56577694 112.53153744 124.08506649 125.26751989 126.2151186\n",
      " 114.88103506 123.35067325 123.04502918 124.80537659 124.70617339\n",
      " 123.53565676 124.68140499 124.83079408 127.55725162 113.83122517\n",
      " 124.91859302 122.38080182 122.63224306 113.10817269 125.55697695\n",
      " 123.26712272 115.20647179 123.45172629 114.11030121 126.47180251\n",
      " 123.91436911 123.25588864 126.77803911 124.04528007 124.3480108\n",
      " 123.92711562 124.19390686 126.1363414  113.3736932  122.63684766\n",
      " 123.16508097 123.1593587  124.03253903 124.67205677 122.81582671\n",
      " 120.80625569 120.63614213 122.26816749 122.13535032 123.00515629\n",
      " 124.42143693 114.79829927 125.06022403 122.22465118 124.17266378\n",
      " 112.33127601 122.99998634 122.90318524 114.03325425 121.54539861\n",
      " 122.60773315 113.02600454 120.83644198 123.41973408 122.57161173\n",
      " 124.97425591]\n"
     ]
    }
   ],
   "source": [
    "forecast_prediction = clf.predict(X_train_scaled)\n",
    "print(forecast_prediction)"
   ]
  },
  {
   "cell_type": "code",
   "execution_count": null,
   "metadata": {
    "collapsed": true
   },
   "outputs": [],
   "source": []
  },
  {
   "cell_type": "code",
   "execution_count": 25,
   "metadata": {},
   "outputs": [],
   "source": [
    "forecast_prediction_pd = pd.DataFrame(data=forecast_prediction, columns=['forecasted'])"
   ]
  },
  {
   "cell_type": "code",
   "execution_count": 26,
   "metadata": {},
   "outputs": [
    {
     "data": {
      "text/html": [
       "<div>\n",
       "<style>\n",
       "    .dataframe thead tr:only-child th {\n",
       "        text-align: right;\n",
       "    }\n",
       "\n",
       "    .dataframe thead th {\n",
       "        text-align: left;\n",
       "    }\n",
       "\n",
       "    .dataframe tbody tr th {\n",
       "        vertical-align: top;\n",
       "    }\n",
       "</style>\n",
       "<table border=\"1\" class=\"dataframe\">\n",
       "  <thead>\n",
       "    <tr style=\"text-align: right;\">\n",
       "      <th></th>\n",
       "      <th>forecasted</th>\n",
       "    </tr>\n",
       "  </thead>\n",
       "  <tbody>\n",
       "    <tr>\n",
       "      <th>0</th>\n",
       "      <td>114.910703</td>\n",
       "    </tr>\n",
       "    <tr>\n",
       "      <th>1</th>\n",
       "      <td>123.086335</td>\n",
       "    </tr>\n",
       "    <tr>\n",
       "      <th>2</th>\n",
       "      <td>112.598003</td>\n",
       "    </tr>\n",
       "    <tr>\n",
       "      <th>3</th>\n",
       "      <td>123.044958</td>\n",
       "    </tr>\n",
       "    <tr>\n",
       "      <th>4</th>\n",
       "      <td>113.519094</td>\n",
       "    </tr>\n",
       "  </tbody>\n",
       "</table>\n",
       "</div>"
      ],
      "text/plain": [
       "   forecasted\n",
       "0  114.910703\n",
       "1  123.086335\n",
       "2  112.598003\n",
       "3  123.044958\n",
       "4  113.519094"
      ]
     },
     "execution_count": 26,
     "metadata": {},
     "output_type": "execute_result"
    }
   ],
   "source": [
    "forecast_prediction_pd.head()"
   ]
  },
  {
   "cell_type": "code",
   "execution_count": 27,
   "metadata": {
    "scrolled": true
   },
   "outputs": [
    {
     "data": {
      "text/html": [
       "<div>\n",
       "<style>\n",
       "    .dataframe thead tr:only-child th {\n",
       "        text-align: right;\n",
       "    }\n",
       "\n",
       "    .dataframe thead th {\n",
       "        text-align: left;\n",
       "    }\n",
       "\n",
       "    .dataframe tbody tr th {\n",
       "        vertical-align: top;\n",
       "    }\n",
       "</style>\n",
       "<table border=\"1\" class=\"dataframe\">\n",
       "  <thead>\n",
       "    <tr style=\"text-align: right;\">\n",
       "      <th></th>\n",
       "      <th>close</th>\n",
       "      <th>volume</th>\n",
       "      <th>RSI</th>\n",
       "      <th>prediction</th>\n",
       "    </tr>\n",
       "    <tr>\n",
       "      <th>timestamp</th>\n",
       "      <th></th>\n",
       "      <th></th>\n",
       "      <th></th>\n",
       "      <th></th>\n",
       "    </tr>\n",
       "  </thead>\n",
       "  <tbody>\n",
       "    <tr>\n",
       "      <th>2015-01-02</th>\n",
       "      <td>109.33</td>\n",
       "      <td>53204626</td>\n",
       "      <td>36.2704</td>\n",
       "      <td>127.830</td>\n",
       "    </tr>\n",
       "    <tr>\n",
       "      <th>2015-01-05</th>\n",
       "      <td>106.25</td>\n",
       "      <td>64285491</td>\n",
       "      <td>35.4623</td>\n",
       "      <td>128.715</td>\n",
       "    </tr>\n",
       "    <tr>\n",
       "      <th>2015-01-06</th>\n",
       "      <td>106.26</td>\n",
       "      <td>65797116</td>\n",
       "      <td>35.4671</td>\n",
       "      <td>128.450</td>\n",
       "    </tr>\n",
       "    <tr>\n",
       "      <th>2015-01-07</th>\n",
       "      <td>107.75</td>\n",
       "      <td>40105934</td>\n",
       "      <td>36.1784</td>\n",
       "      <td>129.495</td>\n",
       "    </tr>\n",
       "    <tr>\n",
       "      <th>2015-01-08</th>\n",
       "      <td>111.89</td>\n",
       "      <td>59364547</td>\n",
       "      <td>38.1060</td>\n",
       "      <td>133.000</td>\n",
       "    </tr>\n",
       "  </tbody>\n",
       "</table>\n",
       "</div>"
      ],
      "text/plain": [
       "             close    volume      RSI  prediction\n",
       "timestamp                                        \n",
       "2015-01-02  109.33  53204626  36.2704     127.830\n",
       "2015-01-05  106.25  64285491  35.4623     128.715\n",
       "2015-01-06  106.26  65797116  35.4671     128.450\n",
       "2015-01-07  107.75  40105934  36.1784     129.495\n",
       "2015-01-08  111.89  59364547  38.1060     133.000"
      ]
     },
     "execution_count": 27,
     "metadata": {},
     "output_type": "execute_result"
    }
   ],
   "source": [
    "stock_2015.head()"
   ]
  },
  {
   "cell_type": "code",
   "execution_count": 28,
   "metadata": {},
   "outputs": [
    {
     "data": {
      "text/plain": [
       "222"
      ]
     },
     "execution_count": 28,
     "metadata": {},
     "output_type": "execute_result"
    }
   ],
   "source": [
    "stock_2015.index.size"
   ]
  },
  {
   "cell_type": "code",
   "execution_count": 29,
   "metadata": {},
   "outputs": [
    {
     "data": {
      "text/plain": [
       "166"
      ]
     },
     "execution_count": 29,
     "metadata": {},
     "output_type": "execute_result"
    }
   ],
   "source": [
    "forecast_prediction_pd.index.size"
   ]
  },
  {
   "cell_type": "code",
   "execution_count": 30,
   "metadata": {},
   "outputs": [],
   "source": [
    "forecast_prediction_pd.reset_index(inplace=True)\n",
    "#stock_2015['forecasted'] = forecast_prediction_pd['forecasted'].values"
   ]
  },
  {
   "cell_type": "code",
   "execution_count": 31,
   "metadata": {},
   "outputs": [
    {
     "data": {
      "text/html": [
       "<div>\n",
       "<style>\n",
       "    .dataframe thead tr:only-child th {\n",
       "        text-align: right;\n",
       "    }\n",
       "\n",
       "    .dataframe thead th {\n",
       "        text-align: left;\n",
       "    }\n",
       "\n",
       "    .dataframe tbody tr th {\n",
       "        vertical-align: top;\n",
       "    }\n",
       "</style>\n",
       "<table border=\"1\" class=\"dataframe\">\n",
       "  <thead>\n",
       "    <tr style=\"text-align: right;\">\n",
       "      <th></th>\n",
       "      <th>close</th>\n",
       "      <th>volume</th>\n",
       "      <th>RSI</th>\n",
       "      <th>prediction</th>\n",
       "    </tr>\n",
       "    <tr>\n",
       "      <th>timestamp</th>\n",
       "      <th></th>\n",
       "      <th></th>\n",
       "      <th></th>\n",
       "      <th></th>\n",
       "    </tr>\n",
       "  </thead>\n",
       "  <tbody>\n",
       "    <tr>\n",
       "      <th>2015-01-02</th>\n",
       "      <td>109.33</td>\n",
       "      <td>53204626</td>\n",
       "      <td>36.2704</td>\n",
       "      <td>127.830</td>\n",
       "    </tr>\n",
       "    <tr>\n",
       "      <th>2015-01-05</th>\n",
       "      <td>106.25</td>\n",
       "      <td>64285491</td>\n",
       "      <td>35.4623</td>\n",
       "      <td>128.715</td>\n",
       "    </tr>\n",
       "    <tr>\n",
       "      <th>2015-01-06</th>\n",
       "      <td>106.26</td>\n",
       "      <td>65797116</td>\n",
       "      <td>35.4671</td>\n",
       "      <td>128.450</td>\n",
       "    </tr>\n",
       "    <tr>\n",
       "      <th>2015-01-07</th>\n",
       "      <td>107.75</td>\n",
       "      <td>40105934</td>\n",
       "      <td>36.1784</td>\n",
       "      <td>129.495</td>\n",
       "    </tr>\n",
       "    <tr>\n",
       "      <th>2015-01-08</th>\n",
       "      <td>111.89</td>\n",
       "      <td>59364547</td>\n",
       "      <td>38.1060</td>\n",
       "      <td>133.000</td>\n",
       "    </tr>\n",
       "  </tbody>\n",
       "</table>\n",
       "</div>"
      ],
      "text/plain": [
       "             close    volume      RSI  prediction\n",
       "timestamp                                        \n",
       "2015-01-02  109.33  53204626  36.2704     127.830\n",
       "2015-01-05  106.25  64285491  35.4623     128.715\n",
       "2015-01-06  106.26  65797116  35.4671     128.450\n",
       "2015-01-07  107.75  40105934  36.1784     129.495\n",
       "2015-01-08  111.89  59364547  38.1060     133.000"
      ]
     },
     "execution_count": 31,
     "metadata": {},
     "output_type": "execute_result"
    }
   ],
   "source": [
    "stock_2015.head()"
   ]
  },
  {
   "cell_type": "code",
   "execution_count": 37,
   "metadata": {},
   "outputs": [
    {
     "data": {
      "image/png": "[encoded data removed]",
      "text/plain": [
       "<matplotlib.figure.Figure at 0x1782d45c048>"
      ]
     },
     "metadata": {},
     "output_type": "display_data"
    }
   ],
   "source": [
    "stock_2015['close'].plot(figsize=(12, 4), color=\"orange\")\n",
    "stock_2015['prediction'].plot(figsize=(12, 4), color=\"red\")\n",
    "plt.show()"
   ]
  },
  {
   "cell_type": "code",
   "execution_count": 36,
   "metadata": {},
   "outputs": [
    {
     "data": {
      "image/png": "[encoded data removed]",
      "text/plain": [
       "<matplotlib.figure.Figure at 0x17829e600f0>"
      ]
     },
     "metadata": {},
     "output_type": "display_data"
    }
   ],
   "source": [
    "forecast_prediction_pd['forecasted'].plot(figsize=(12, 4), color=\"pink\")\n",
    "plt.show()"
   ]
  },
  {
   "cell_type": "code",
   "execution_count": null,
   "metadata": {
    "collapsed": true
   },
   "outputs": [],
   "source": []
  },
  {
   "cell_type": "code",
   "execution_count": null,
   "metadata": {
    "collapsed": true
   },
   "outputs": [],
   "source": []
  },
  {
   "cell_type": "code",
   "execution_count": null,
   "metadata": {
    "collapsed": true
   },
   "outputs": [],
   "source": []
  },
  {
   "cell_type": "code",
   "execution_count": null,
   "metadata": {
    "collapsed": true
   },
   "outputs": [],
   "source": []
  },
  {
   "cell_type": "code",
   "execution_count": null,
   "metadata": {
    "collapsed": true
   },
   "outputs": [],
   "source": []
  },
  {
   "cell_type": "code",
   "execution_count": null,
   "metadata": {
    "collapsed": true
   },
   "outputs": [],
   "source": []
  }
 ],
 "metadata": {
  "kernelspec": {
   "display_name": "Python 3",
   "language": "python",
   "name": "python3"
  },
  "language_info": {
   "codemirror_mode": {
    "name": "ipython",
    "version": 3
   },
   "file_extension": ".py",
   "mimetype": "text/x-python",
   "name": "python",
   "nbconvert_exporter": "python",
   "pygments_lexer": "ipython3",
   "version": "3.6.1"
  }
 },
 "nbformat": 4,
 "nbformat_minor": 2
}
